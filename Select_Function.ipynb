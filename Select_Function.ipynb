{
 "cells": [
  {
   "cell_type": "code",
   "execution_count": 11,
   "id": "f6de5c49",
   "metadata": {},
   "outputs": [
    {
     "name": "stdout",
     "output_type": "stream",
     "text": [
      "Enter Client ID to be searched for\n",
      "45\n",
      "(45, \"Nhg'Zohm\", 'nmy*+,zmmy', 'nhghsh;<?>Gnthps5jvt', datetime.datetime(2022, 10, 31, 10, 15))\n"
     ]
    }
   ],
   "source": [
    "import psycopg2\n",
    "import sys\n",
    "\n",
    "# Function to select data from the \"Client_Credentials\" table\n",
    "def select_from_table(db_params, clientId):\n",
    "    try:\n",
    "        # Establish a connection to the PostgreSQL database\n",
    "        conn = psycopg2.connect(**db_params)\n",
    "\n",
    "        # Create a cursor to execute queries\n",
    "        cursor = conn.cursor()\n",
    "\n",
    "        query = \"\"\"SELECT * FROM public.dim_client_credentials WHERE client_id = %s\"\"\"\n",
    "\n",
    "        # Convert clientId to integer before executing the query\n",
    "        clientId_int = int(clientId)\n",
    "        cursor.execute(query, (clientId_int,))\n",
    "\n",
    "        rows = cursor.fetchall()\n",
    "        for i in rows:\n",
    "            print(i)\n",
    "\n",
    "    except psycopg2.Error as e:\n",
    "        print(\"Error: \", e)\n",
    "\n",
    "    finally:\n",
    "        # Don't forget to close the cursor and connection when you're done.\n",
    "        if 'cursor' in locals():\n",
    "            cursor.close()\n",
    "        if 'conn' in locals():\n",
    "            conn.close()\n",
    "\n",
    "# Database connection parameters\n",
    "db_params = {\n",
    "    'host': 'localhost',  # Replace with the actual server address\n",
    "    'database': 'clientdb',  # Replace with your actual database name\n",
    "    'user': 'postgres',  # Replace with your PostgreSQL username\n",
    "    'password': 'password'  # Replace with your PostgreSQL password\n",
    "}\n",
    "\n",
    "# Get the clientId from the command-line arguments\n",
    "if len(sys.argv) != 2:\n",
    "    print(\"Usage: python script.py <clientId>\")\n",
    "    sys.exit(1)\n",
    "#code system argument\n",
    "print('Enter Client ID to be searched for :')\n",
    "#clientId = input() #for testing\n",
    "clientId = sys.argv[1]\n",
    "# Run the select function to get the data from the table\n",
    "select_from_table(db_params, clientId)\n"
   ]
  },
  {
   "cell_type": "code",
   "execution_count": null,
   "id": "b79e2c38",
   "metadata": {},
   "outputs": [],
   "source": []
  }
 ],
 "metadata": {
  "kernelspec": {
   "display_name": "Python 3",
   "language": "python",
   "name": "python3"
  },
  "language_info": {
   "codemirror_mode": {
    "name": "ipython",
    "version": 3
   },
   "file_extension": ".py",
   "mimetype": "text/x-python",
   "name": "python",
   "nbconvert_exporter": "python",
   "pygments_lexer": "ipython3",
   "version": "3.8.8"
  }
 },
 "nbformat": 4,
 "nbformat_minor": 5
}
